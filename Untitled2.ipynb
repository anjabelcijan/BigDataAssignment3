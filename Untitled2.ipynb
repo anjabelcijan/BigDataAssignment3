{
 "cells": [
  {
   "cell_type": "code",
   "execution_count": 1,
   "metadata": {},
   "outputs": [
    {
     "data": {
      "text/html": [
       "\n",
       "        <div>\n",
       "            <p><b>SparkContext</b></p>\n",
       "\n",
       "            <p><a href=\"http://192.168.0.178:4048\">Spark UI</a></p>\n",
       "\n",
       "            <dl>\n",
       "              <dt>Version</dt>\n",
       "                <dd><code>v2.3.0</code></dd>\n",
       "              <dt>Master</dt>\n",
       "                <dd><code>local[*]</code></dd>\n",
       "              <dt>AppName</dt>\n",
       "                <dd><code>PySparkShell</code></dd>\n",
       "            </dl>\n",
       "        </div>\n",
       "        "
      ],
      "text/plain": [
       "<SparkContext master=local[*] appName=PySparkShell>"
      ]
     },
     "execution_count": 1,
     "metadata": {},
     "output_type": "execute_result"
    }
   ],
   "source": [
    "sc"
   ]
  },
  {
   "cell_type": "code",
   "execution_count": 2,
   "metadata": {},
   "outputs": [
    {
     "data": {
      "text/html": [
       "\n",
       "            <div>\n",
       "                <p><b>SparkSession - hive</b></p>\n",
       "                \n",
       "        <div>\n",
       "            <p><b>SparkContext</b></p>\n",
       "\n",
       "            <p><a href=\"http://192.168.0.178:4048\">Spark UI</a></p>\n",
       "\n",
       "            <dl>\n",
       "              <dt>Version</dt>\n",
       "                <dd><code>v2.3.0</code></dd>\n",
       "              <dt>Master</dt>\n",
       "                <dd><code>local[*]</code></dd>\n",
       "              <dt>AppName</dt>\n",
       "                <dd><code>PySparkShell</code></dd>\n",
       "            </dl>\n",
       "        </div>\n",
       "        \n",
       "            </div>\n",
       "        "
      ],
      "text/plain": [
       "<pyspark.sql.session.SparkSession at 0x1099e85c0>"
      ]
     },
     "execution_count": 2,
     "metadata": {},
     "output_type": "execute_result"
    }
   ],
   "source": [
    "from pyspark.sql import SparkSession\n",
    "\n",
    "spark = SparkSession.builder\\\n",
    "    .appName(\"PySpark SQL\")\\\n",
    "    .getOrCreate()\n",
    "    \n",
    "spark"
   ]
  },
  {
   "cell_type": "code",
   "execution_count": 3,
   "metadata": {},
   "outputs": [
    {
     "name": "stdout",
     "output_type": "stream",
     "text": [
      "root\n",
      " |-- value: string (nullable = true)\n",
      "\n"
     ]
    }
   ],
   "source": [
    "socketDF = spark.readStream.format(\"socket\").option(\"host\", \"seppe.net\").option(\"port\", 7778).load()\n",
    "\n",
    "socketDF.printSchema()"
   ]
  },
  {
   "cell_type": "code",
   "execution_count": 4,
   "metadata": {},
   "outputs": [],
   "source": [
    "query = socketDF.writeStream.format(\"memory\") \\\n",
    "    .trigger(processingTime='2 seconds') \\\n",
    "    .queryName(\"my_query\") \\\n",
    "    .start()"
   ]
  },
  {
   "cell_type": "code",
   "execution_count": 7,
   "metadata": {},
   "outputs": [
    {
     "name": "stdout",
     "output_type": "stream",
     "text": [
      "+--------------------+--------------------+--------+\n",
      "|               title|         description|   topic|\n",
      "+--------------------+--------------------+--------+\n",
      "|U.S. Tax Revamp W...|The new tax law’s...|business|\n",
      "|Sprint, T-Mobile ...|The boards of Spr...|business|\n",
      "|Walmart Looks to ...|Walmart, the worl...|business|\n",
      "|Dollar Roars Back...|The dollar is ral...|business|\n",
      "|DOJ’s Antitrust C...|With closing argu...|business|\n",
      "|The Biggest Banks...|In the new world ...|business|\n",
      "|Central American ...|Hundreds of migra...|business|\n",
      "|Fed’s Interest-Ra...|Federal Reserve o...|business|\n",
      "|Pompeo Rails Agai...|Secretary of Stat...|business|\n",
      "|North Korea to Sh...|Pyongyang plans t...|business|\n",
      "|The pope’s role i...|He went against t...|business|\n",
      "|Scientists strugg...|A potent greenhou...|business|\n",
      "|The death—or rein...|An inquiry at the...|business|\n",
      "|What happens if D...|The re-imposition...|business|\n",
      "|Can the euphoria ...|Moon Jae-in and K...|business|\n",
      "|Marco Rubio offer...|The Florida senat...|business|\n",
      "|A new NAFTA may b...|Then the hard wor...|business|\n",
      "|China and India a...|Xi Jinping and Na...|business|\n",
      "|         Open Future|The Economist off...|business|\n",
      "|Our essay competi...|The Economist has...|business|\n",
      "+--------------------+--------------------+--------+\n",
      "only showing top 20 rows\n",
      "\n"
     ]
    }
   ],
   "source": [
    "from pyspark.sql import functions\n",
    "\n",
    "df = spark.table(\"my_query\")\n",
    "split_col = functions.split(df['value'], '\\t')\n",
    "df = df.withColumn('title', split_col.getItem(0))\n",
    "df = df.withColumn('description', split_col.getItem(1))\n",
    "df = df.withColumn('topic', split_col.getItem(2))\n",
    "df = df.select(['title', 'description', 'topic'])\n",
    "\n",
    "df.show()"
   ]
  },
  {
   "cell_type": "code",
   "execution_count": 8,
   "metadata": {},
   "outputs": [],
   "source": [
    "query.stop()"
   ]
  },
  {
   "cell_type": "code",
   "execution_count": null,
   "metadata": {},
   "outputs": [],
   "source": []
  }
 ],
 "metadata": {
  "kernelspec": {
   "display_name": "Python 3",
   "language": "python",
   "name": "python3"
  },
  "language_info": {
   "codemirror_mode": {
    "name": "ipython",
    "version": 3
   },
   "file_extension": ".py",
   "mimetype": "text/x-python",
   "name": "python",
   "nbconvert_exporter": "python",
   "pygments_lexer": "ipython3",
   "version": "3.6.4"
  }
 },
 "nbformat": 4,
 "nbformat_minor": 2
}
