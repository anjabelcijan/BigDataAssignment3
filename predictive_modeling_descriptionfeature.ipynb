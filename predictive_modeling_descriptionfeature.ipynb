{
 "cells": [
  {
   "cell_type": "code",
   "execution_count": 1,
   "metadata": {},
   "outputs": [],
   "source": [
    "import os"
   ]
  },
  {
   "cell_type": "code",
   "execution_count": 2,
   "metadata": {},
   "outputs": [
    {
     "data": {
      "text/html": [
       "\n",
       "        <div>\n",
       "            <p><b>SparkContext</b></p>\n",
       "\n",
       "            <p><a href=\"http://CRD-U-F8C3YN1:4040\">Spark UI</a></p>\n",
       "\n",
       "            <dl>\n",
       "              <dt>Version</dt>\n",
       "                <dd><code>v2.3.0</code></dd>\n",
       "              <dt>Master</dt>\n",
       "                <dd><code>local[*]</code></dd>\n",
       "              <dt>AppName</dt>\n",
       "                <dd><code>PySparkShell</code></dd>\n",
       "            </dl>\n",
       "        </div>\n",
       "        "
      ],
      "text/plain": [
       "<SparkContext master=local[*] appName=PySparkShell>"
      ]
     },
     "execution_count": 2,
     "metadata": {},
     "output_type": "execute_result"
    }
   ],
   "source": [
    "sc"
   ]
  },
  {
   "cell_type": "code",
   "execution_count": 3,
   "metadata": {},
   "outputs": [
    {
     "name": "stdout",
     "output_type": "stream",
     "text": [
      "+--------------------+--------------------+---------------+---+\n",
      "|               Title|         Description|          Topic| nT|\n",
      "+--------------------+--------------------+---------------+---+\n",
      "|\"Meek Mill Wishes...|\"'I wasn't feelin...|\"entertainment\"|\"1\"|\n",
      "|\"A Victim Of Reve...| \"Don't leak nudes.\"|\"entertainment\"|\"1\"|\n",
      "|\"Make A Pitcher O...|   \"It's wine time.\"|\"entertainment\"|\"1\"|\n",
      "|\"Create A Summer ...|\"Which tune will ...|\"entertainment\"|\"1\"|\n",
      "|\"Everyone Is A Co...|\"Are you a combo ...|\"entertainment\"|\"1\"|\n",
      "+--------------------+--------------------+---------------+---+\n",
      "only showing top 5 rows\n",
      "\n",
      "+--------------------+--------------------+---------------+\n",
      "|               Title|         Description|          Topic|\n",
      "+--------------------+--------------------+---------------+\n",
      "|\"Meek Mill Wishes...|\"'I wasn't feelin...|\"entertainment\"|\n",
      "|\"A Victim Of Reve...| \"Don't leak nudes.\"|\"entertainment\"|\n",
      "|\"Make A Pitcher O...|   \"It's wine time.\"|\"entertainment\"|\n",
      "|\"Create A Summer ...|\"Which tune will ...|\"entertainment\"|\n",
      "|\"Everyone Is A Co...|\"Are you a combo ...|\"entertainment\"|\n",
      "+--------------------+--------------------+---------------+\n",
      "only showing top 5 rows\n",
      "\n",
      "root\n",
      " |-- Title: string (nullable = true)\n",
      " |-- Description: string (nullable = true)\n",
      " |-- Topic: string (nullable = true)\n",
      "\n",
      "+---------------+-----+\n",
      "|          Topic|count|\n",
      "+---------------+-----+\n",
      "|       \"sports\"|  885|\n",
      "|   \"technology\"|  743|\n",
      "|     \"business\"|  679|\n",
      "|      \"science\"|  674|\n",
      "|\"entertainment\"|  647|\n",
      "|       \"health\"|  380|\n",
      "+---------------+-----+\n",
      "\n"
     ]
    }
   ],
   "source": [
    "###Create Dataframe###\n",
    "from pyspark.sql import SQLContext, Row\n",
    "#load the historical file and convert lines to rows\n",
    "lines = sc.textFile(\"file:///Users/Administrator/Desktop/spark/out3.txt\")\n",
    "words = lines.map(lambda l: l.split(\"\\t\"))\n",
    "header = words.first()\n",
    "words = words.filter(lambda x:x != header)\n",
    "data= sqlContext.createDataFrame(words, [\"Title\", \"Description\", \"Topic\",\"nT\"])\n",
    "data.show(5)\n",
    "#omit column \"nT\" from dataframe\n",
    "data = data.select([\"Title\",\"Description\",\"Topic\"])\n",
    "data.show(5)\n",
    "data.printSchema()\n",
    "\n",
    "#look at count for topics\n",
    "from pyspark.sql.functions import col\n",
    "data.groupBy(\"Topic\") \\\n",
    "    .count() \\\n",
    "    .orderBy(col(\"count\").desc()) \\\n",
    "    .show()"
   ]
  },
  {
   "cell_type": "code",
   "execution_count": 5,
   "metadata": {},
   "outputs": [],
   "source": [
    "###Model Pipeline, 'Description' feature###\n",
    "from pyspark.ml.feature import RegexTokenizer, StopWordsRemover, CountVectorizer\n",
    "from pyspark.ml.classification import LogisticRegression\n",
    "# regular expression tokenizer\n",
    "regexTokenizer1 = RegexTokenizer(inputCol=\"Description\", outputCol=\"words1\", pattern=\"\\\\W\")\n",
    "# stop words\n",
    "add_stopwords =StopWordsRemover.loadDefaultStopWords(\"english\")\n",
    "stopwordsRemover1 = StopWordsRemover(inputCol=\"words1\", outputCol=\"filtered1\").setStopWords(add_stopwords)\n",
    "# bag of words count\n",
    "countVectors1 = CountVectorizer(inputCol=\"filtered1\", outputCol=\"features\", vocabSize=10000, minDF=5)\n",
    "#String Indexer \n",
    "from pyspark.ml import Pipeline\n",
    "from pyspark.ml.feature import OneHotEncoder, StringIndexer, VectorAssembler\n",
    "label_stringIdx = StringIndexer(inputCol = \"Topic\", outputCol = \"label\")\n",
    "pipeline = Pipeline(stages=[regexTokenizer1,stopwordsRemover1,countVectors1,label_stringIdx])"
   ]
  },
  {
   "cell_type": "code",
   "execution_count": 6,
   "metadata": {},
   "outputs": [
    {
     "name": "stdout",
     "output_type": "stream",
     "text": [
      "+--------------------+--------------------+---------------+--------------------+--------------------+--------------------+-----+\n",
      "|               Title|         Description|          Topic|              words1|           filtered1|            features|label|\n",
      "+--------------------+--------------------+---------------+--------------------+--------------------+--------------------+-----+\n",
      "|\"Meek Mill Wishes...|\"'I wasn't feelin...|\"entertainment\"|[i, wasn, t, feel...|     [wasn, feeling]|(3064,[914,2930],...|  4.0|\n",
      "|\"A Victim Of Reve...| \"Don't leak nudes.\"|\"entertainment\"|[don, t, leak, nu...|       [leak, nudes]|        (3064,[],[])|  4.0|\n",
      "|\"Make A Pitcher O...|   \"It's wine time.\"|\"entertainment\"| [it, s, wine, time]|        [wine, time]|   (3064,[10],[1.0])|  4.0|\n",
      "|\"Create A Summer ...|\"Which tune will ...|\"entertainment\"|[which, tune, wil...|[tune, dominate, ...|        (3064,[],[])|  4.0|\n",
      "|\"Everyone Is A Co...|\"Are you a combo ...|\"entertainment\"|[are, you, a, com...|   [combo, bey, rih]|        (3064,[],[])|  4.0|\n",
      "+--------------------+--------------------+---------------+--------------------+--------------------+--------------------+-----+\n",
      "only showing top 5 rows\n",
      "\n"
     ]
    }
   ],
   "source": [
    "# Fit the pipeline to training documents.\n",
    "pipelineFit = pipeline.fit(data)\n",
    "dataset = pipelineFit.transform(data)\n",
    "dataset.show(5)"
   ]
  },
  {
   "cell_type": "code",
   "execution_count": 7,
   "metadata": {},
   "outputs": [
    {
     "name": "stdout",
     "output_type": "stream",
     "text": [
      "Training Dataset Count: 2807\n",
      "Test Dataset Count: 1201\n"
     ]
    }
   ],
   "source": [
    "###Split Data to Training and Test###\n",
    "(trainingData, testData) = dataset.randomSplit([0.7, 0.3], seed = 100)\n",
    "print(\"Training Dataset Count: \" + str(trainingData.count()))\n",
    "print(\"Test Dataset Count: \" + str(testData.count()))"
   ]
  },
  {
   "cell_type": "code",
   "execution_count": 8,
   "metadata": {},
   "outputs": [
    {
     "name": "stdout",
     "output_type": "stream",
     "text": [
      "+------------------------------+--------+------------------------------+-----+----------+\n",
      "|                   Description|   Topic|                   probability|label|prediction|\n",
      "+------------------------------+--------+------------------------------+-----+----------+\n",
      "|\"Diego Costa ensured Arsene...|\"sports\"|[1.0,6.834478772328512E-19,...|  0.0|       0.0|\n",
      "|\"This will be the first top...|\"sports\"|[1.0,3.8968441942431376E-19...|  0.0|       0.0|\n",
      "|\"SAN JOSE -- If there were ...|\"sports\"|[1.0,1.051270096485701E-19,...|  0.0|       0.0|\n",
      "|\"WASHINGTON -- The Washingt...|\"sports\"|[1.0,2.3636521666498692E-20...|  0.0|       0.0|\n",
      "|\"SHARKS at GOLDEN KNIGHTS10...|\"sports\"|[1.0,1.9809013430965372E-23...|  0.0|       0.0|\n",
      "|\"LAS VEGAS -- The Vegas Gol...|\"sports\"|[1.0,6.430321009640053E-28,...|  0.0|       0.0|\n",
      "|\"Philadelphia 76ers  point ...|\"sports\"|[0.9999999999999998,4.16331...|  0.0|       0.0|\n",
      "|\"The Nashville Predators pl...|\"sports\"|[0.9999999999999989,2.79997...|  0.0|       0.0|\n",
      "|\"Pascal Gross scored the go...|\"sports\"|[0.9999999999999987,1.72517...|  0.0|       0.0|\n",
      "|\"Pascal Gross scored the go...|\"sports\"|[0.9999999999999987,1.72517...|  0.0|       0.0|\n",
      "+------------------------------+--------+------------------------------+-----+----------+\n",
      "only showing top 10 rows\n",
      "\n"
     ]
    },
    {
     "data": {
      "text/plain": [
       "0.7968641494925777"
      ]
     },
     "execution_count": 8,
     "metadata": {},
     "output_type": "execute_result"
    }
   ],
   "source": [
    "#Naive Bayes\n",
    "from pyspark.ml.classification import NaiveBayes\n",
    "nb = NaiveBayes(smoothing=1)\n",
    "model = nb.fit(trainingData)\n",
    "predictions = model.transform(testData)\n",
    "predictions.filter(predictions['prediction'] == 0) \\\n",
    "    .select(\"Description\",\"Topic\",\"probability\",\"label\",\"prediction\") \\\n",
    "    .orderBy(\"probability\", ascending=False) \\\n",
    "    .show(n = 10, truncate = 30)\n",
    "from pyspark.ml.evaluation import MulticlassClassificationEvaluator\n",
    "evaluator = MulticlassClassificationEvaluator(predictionCol=\"prediction\")\n",
    "evaluator.evaluate(predictions)   "
   ]
  },
  {
   "cell_type": "code",
   "execution_count": 9,
   "metadata": {},
   "outputs": [
    {
     "name": "stdout",
     "output_type": "stream",
     "text": [
      "+------------------------------+--------+------------------------------+-----+----------+\n",
      "|                   Description|   Topic|                   probability|label|prediction|\n",
      "+------------------------------+--------+------------------------------+-----+----------+\n",
      "|\"Diego Costa ensured Arsene...|\"sports\"|[0.9949220203064796,0.00343...|  0.0|       0.0|\n",
      "|\"Get a report of the Mumbai...|\"sports\"|[0.9913926136601412,0.00220...|  0.0|       0.0|\n",
      "|\"Steven Gerrard is expected...|\"sports\"|[0.9862180200619127,0.00447...|  0.0|       0.0|\n",
      "|\"The Ottawa Senators will h...|\"sports\"|[0.9854441483057239,0.00477...|  0.0|       0.0|\n",
      "|\"Philadelphia 76ers  point ...|\"sports\"|[0.9848558820974237,0.00379...|  0.0|       0.0|\n",
      "|\"NASHVILLE -- The list of p...|\"sports\"|[0.9847760351660065,0.00446...|  0.0|       0.0|\n",
      "|\"LAS VEGAS -- The Vegas Gol...|\"sports\"|[0.9822609595076545,0.00569...|  0.0|       0.0|\n",
      "|\"Bayern Munich defender Jer...|\"sports\"|[0.9807110655041338,0.00372...|  0.0|       0.0|\n",
      "|\"Cardiff sealed promotion t...|\"sports\"|[0.9788610001349142,0.00307...|  0.0|       0.0|\n",
      "|\"WASHINGTON -- The Washingt...|\"sports\"|[0.9788119989746041,0.00432...|  0.0|       0.0|\n",
      "+------------------------------+--------+------------------------------+-----+----------+\n",
      "only showing top 10 rows\n",
      "\n"
     ]
    },
    {
     "data": {
      "text/plain": [
       "0.8418878223488463"
      ]
     },
     "execution_count": 9,
     "metadata": {},
     "output_type": "execute_result"
    }
   ],
   "source": [
    "#Logistic Regression\n",
    "lr = LogisticRegression(maxIter=20, regParam=0.3, elasticNetParam=0)\n",
    "lrModel = lr.fit(trainingData)\n",
    "predictions = lrModel.transform(testData)\n",
    "predictions.filter(predictions['prediction'] == 0) \\\n",
    "    .select(\"Description\",\"Topic\",\"probability\",\"label\",\"prediction\") \\\n",
    "    .orderBy(\"probability\", ascending=False) \\\n",
    "    .show(n = 10, truncate = 30)\n",
    "evaluator = MulticlassClassificationEvaluator(predictionCol=\"prediction\")\n",
    "evaluator.evaluate(predictions)"
   ]
  },
  {
   "cell_type": "code",
   "execution_count": null,
   "metadata": {},
   "outputs": [],
   "source": []
  }
 ],
 "metadata": {
  "kernelspec": {
   "display_name": "Python 3",
   "language": "python",
   "name": "python3"
  },
  "language_info": {
   "codemirror_mode": {
    "name": "ipython",
    "version": 3
   },
   "file_extension": ".py",
   "mimetype": "text/x-python",
   "name": "python",
   "nbconvert_exporter": "python",
   "pygments_lexer": "ipython3",
   "version": "3.6.4"
  }
 },
 "nbformat": 4,
 "nbformat_minor": 2
}
