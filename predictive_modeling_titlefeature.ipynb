{
 "cells": [
  {
   "cell_type": "code",
   "execution_count": 1,
   "metadata": {},
   "outputs": [],
   "source": [
    "import os"
   ]
  },
  {
   "cell_type": "code",
   "execution_count": 2,
   "metadata": {},
   "outputs": [
    {
     "data": {
      "text/html": [
       "\n",
       "        <div>\n",
       "            <p><b>SparkContext</b></p>\n",
       "\n",
       "            <p><a href=\"http://CRD-U-F8C3YN1:4040\">Spark UI</a></p>\n",
       "\n",
       "            <dl>\n",
       "              <dt>Version</dt>\n",
       "                <dd><code>v2.3.0</code></dd>\n",
       "              <dt>Master</dt>\n",
       "                <dd><code>local[*]</code></dd>\n",
       "              <dt>AppName</dt>\n",
       "                <dd><code>PySparkShell</code></dd>\n",
       "            </dl>\n",
       "        </div>\n",
       "        "
      ],
      "text/plain": [
       "<SparkContext master=local[*] appName=PySparkShell>"
      ]
     },
     "execution_count": 2,
     "metadata": {},
     "output_type": "execute_result"
    }
   ],
   "source": [
    "sc"
   ]
  },
  {
   "cell_type": "code",
   "execution_count": 5,
   "metadata": {},
   "outputs": [
    {
     "name": "stdout",
     "output_type": "stream",
     "text": [
      "+--------------------+--------------------+---------------+---+\n",
      "|               Title|         Description|          Topic| nT|\n",
      "+--------------------+--------------------+---------------+---+\n",
      "|\"Meek Mill Wishes...|\"'I wasn't feelin...|\"entertainment\"|\"1\"|\n",
      "|\"A Victim Of Reve...| \"Don't leak nudes.\"|\"entertainment\"|\"1\"|\n",
      "|\"Make A Pitcher O...|   \"It's wine time.\"|\"entertainment\"|\"1\"|\n",
      "|\"Create A Summer ...|\"Which tune will ...|\"entertainment\"|\"1\"|\n",
      "|\"Everyone Is A Co...|\"Are you a combo ...|\"entertainment\"|\"1\"|\n",
      "+--------------------+--------------------+---------------+---+\n",
      "only showing top 5 rows\n",
      "\n",
      "+--------------------+--------------------+---------------+\n",
      "|               Title|         Description|          Topic|\n",
      "+--------------------+--------------------+---------------+\n",
      "|\"Meek Mill Wishes...|\"'I wasn't feelin...|\"entertainment\"|\n",
      "|\"A Victim Of Reve...| \"Don't leak nudes.\"|\"entertainment\"|\n",
      "|\"Make A Pitcher O...|   \"It's wine time.\"|\"entertainment\"|\n",
      "|\"Create A Summer ...|\"Which tune will ...|\"entertainment\"|\n",
      "|\"Everyone Is A Co...|\"Are you a combo ...|\"entertainment\"|\n",
      "+--------------------+--------------------+---------------+\n",
      "only showing top 5 rows\n",
      "\n",
      "root\n",
      " |-- Title: string (nullable = true)\n",
      " |-- Description: string (nullable = true)\n",
      " |-- Topic: string (nullable = true)\n",
      "\n"
     ]
    }
   ],
   "source": [
    "###Create Dataframe###\n",
    "from pyspark.sql import SQLContext, Row\n",
    "#load the historical file and convert lines to rows\n",
    "lines = sc.textFile(\"file:///Users/Administrator/Desktop/spark/out3.txt\")\n",
    "words = lines.map(lambda l: l.split(\"\\t\"))\n",
    "header = words.first()\n",
    "words = words.filter(lambda x:x != header)\n",
    "data= sqlContext.createDataFrame(words, [\"Title\", \"Description\", \"Topic\",\"nT\"])\n",
    "data.show(5)\n",
    "#omit column \"nT\" from dataframe\n",
    "data = data.select([\"Title\",\"Description\",\"Topic\"])\n",
    "data.show(5)\n",
    "data.printSchema()"
   ]
  },
  {
   "cell_type": "code",
   "execution_count": 6,
   "metadata": {},
   "outputs": [
    {
     "name": "stdout",
     "output_type": "stream",
     "text": [
      "+---------------+-----+\n",
      "|          Topic|count|\n",
      "+---------------+-----+\n",
      "|       \"sports\"|  885|\n",
      "|   \"technology\"|  743|\n",
      "|     \"business\"|  679|\n",
      "|      \"science\"|  674|\n",
      "|\"entertainment\"|  647|\n",
      "|       \"health\"|  380|\n",
      "+---------------+-----+\n",
      "\n"
     ]
    }
   ],
   "source": [
    "#look at count for topics\n",
    "from pyspark.sql.functions import col\n",
    "data.groupBy(\"Topic\") \\\n",
    "    .count() \\\n",
    "    .orderBy(col(\"count\").desc()) \\\n",
    "    .show()"
   ]
  },
  {
   "cell_type": "code",
   "execution_count": 8,
   "metadata": {},
   "outputs": [],
   "source": [
    "###Model Pipeline, 'Title' Feature###\n",
    "from pyspark.ml.feature import RegexTokenizer, StopWordsRemover, CountVectorizer\n",
    "from pyspark.ml.classification import LogisticRegression\n",
    "# regular expression tokenizer\n",
    "regexTokenizer1 = RegexTokenizer(inputCol=\"Title\", outputCol=\"words1\", pattern=\"\\\\W\")\n",
    "# stop words\n",
    "add_stopwords =StopWordsRemover.loadDefaultStopWords(\"english\")\n",
    "stopwordsRemover1 = StopWordsRemover(inputCol=\"words1\", outputCol=\"filtered1\").setStopWords(add_stopwords)\n",
    "# bag of words count\n",
    "countVectors1 = CountVectorizer(inputCol=\"filtered1\", outputCol=\"features\", vocabSize=10000, minDF=5)\n",
    "#String Indexer \n",
    "from pyspark.ml import Pipeline\n",
    "from pyspark.ml.feature import OneHotEncoder, StringIndexer, VectorAssembler\n",
    "label_stringIdx = StringIndexer(inputCol = \"Topic\", outputCol = \"label\")\n",
    "pipeline = Pipeline(stages=[regexTokenizer1,stopwordsRemover1,countVectors1,label_stringIdx])"
   ]
  },
  {
   "cell_type": "code",
   "execution_count": 9,
   "metadata": {},
   "outputs": [
    {
     "name": "stdout",
     "output_type": "stream",
     "text": [
      "+--------------------+--------------------+---------------+--------------------+--------------------+--------------------+-----+\n",
      "|               Title|         Description|          Topic|              words1|           filtered1|            features|label|\n",
      "+--------------------+--------------------+---------------+--------------------+--------------------+--------------------+-----+\n",
      "|\"Meek Mill Wishes...|\"'I wasn't feelin...|\"entertainment\"|[meek, mill, wish...|[meek, mill, wish...|  (1678,[818],[1.0])|  4.0|\n",
      "|\"A Victim Of Reve...| \"Don't leak nudes.\"|\"entertainment\"|[a, victim, of, r...|[victim, revenge,...|(1678,[175,1294,1...|  4.0|\n",
      "|\"Make A Pitcher O...|   \"It's wine time.\"|\"entertainment\"|[make, a, pitcher...|[make, pitcher, s...|(1678,[30,31,83,1...|  4.0|\n",
      "|\"Create A Summer ...|\"Which tune will ...|\"entertainment\"|[create, a, summe...|[create, summer, ...|(1678,[83,125,526...|  4.0|\n",
      "|\"Everyone Is A Co...|\"Are you a combo ...|\"entertainment\"|[everyone, is, a,...|[everyone, combin...|(1678,[0,17,169,3...|  4.0|\n",
      "+--------------------+--------------------+---------------+--------------------+--------------------+--------------------+-----+\n",
      "only showing top 5 rows\n",
      "\n",
      "Training Dataset Count: 2807\n",
      "Test Dataset Count: 1201\n"
     ]
    }
   ],
   "source": [
    "# Fit the pipeline to training documents.\n",
    "pipelineFit = pipeline.fit(data)\n",
    "dataset = pipelineFit.transform(data)\n",
    "dataset.show(5)\n",
    "##predictive modeling, 'Title'##\n",
    "###Split Data to Training and Test###\n",
    "(trainingData, testData) = dataset.randomSplit([0.7, 0.3], seed = 100)\n",
    "print(\"Training Dataset Count: \" + str(trainingData.count()))\n",
    "print(\"Test Dataset Count: \" + str(testData.count()))"
   ]
  },
  {
   "cell_type": "code",
   "execution_count": 11,
   "metadata": {},
   "outputs": [
    {
     "name": "stdout",
     "output_type": "stream",
     "text": [
      "+------------------------------+--------+------------------------------+-----+----------+\n",
      "|                         Title|   Topic|                   probability|label|prediction|\n",
      "+------------------------------+--------+------------------------------+-----+----------+\n",
      "|\"Brighton & Hove Albion 1-0...|\"sports\"|[0.9999999999993969,2.15979...|  0.0|       0.0|\n",
      "|\"Brighton & Hove Albion 1-0...|\"sports\"|[0.9999999999993969,2.15979...|  0.0|       0.0|\n",
      "|\"Brighton and Hove Albion F...|\"sports\"|[0.9999999999992071,7.07767...|  0.0|       0.0|\n",
      "|\"Brighton and Hove Albion F...|\"sports\"|[0.9999999999992071,7.07767...|  0.0|       0.0|\n",
      "|\"Brighton and Hove Albion 1...|\"sports\"|[0.9999999875306452,1.03292...|  0.0|       0.0|\n",
      "|\"Brighton and Hove Albion 1...|\"sports\"|[0.9999999875306452,1.03292...|  0.0|       0.0|\n",
      "|\"West Ham 0 Manchester Unit...|\"sports\"|[0.9999999678586534,1.88063...|  0.0|       0.0|\n",
      "|\"Where to stream Brighton &...|\"sports\"|[0.9999999661949992,2.95452...|  0.0|       0.0|\n",
      "|\"Manchester City 3 Brighton...|\"sports\"|[0.9999999533354291,5.65238...|  0.0|       0.0|\n",
      "|\"Golden Knights hold off Sh...|\"sports\"|[0.9999997949620155,5.55512...|  0.0|       0.0|\n",
      "+------------------------------+--------+------------------------------+-----+----------+\n",
      "only showing top 10 rows\n",
      "\n"
     ]
    },
    {
     "data": {
      "text/plain": [
       "0.7916678392396832"
      ]
     },
     "execution_count": 11,
     "metadata": {},
     "output_type": "execute_result"
    }
   ],
   "source": [
    "###Predictive Modeling###\n",
    "#Naive Bayes\n",
    "from pyspark.ml.classification import NaiveBayes\n",
    "nb = NaiveBayes(smoothing=1)\n",
    "model = nb.fit(trainingData)\n",
    "predictions = model.transform(testData)\n",
    "predictions.filter(predictions['prediction'] == 0) \\\n",
    "    .select(\"Title\",\"Topic\",\"probability\",\"label\",\"prediction\") \\\n",
    "    .orderBy(\"probability\", ascending=False) \\\n",
    "    .show(n = 10, truncate = 30)\n",
    "from pyspark.ml.evaluation import MulticlassClassificationEvaluator\n",
    "evaluator = MulticlassClassificationEvaluator(predictionCol=\"prediction\")\n",
    "evaluator.evaluate(predictions)   "
   ]
  },
  {
   "cell_type": "code",
   "execution_count": 12,
   "metadata": {},
   "outputs": [
    {
     "name": "stdout",
     "output_type": "stream",
     "text": [
      "+------------------------------+--------+------------------------------+-----+----------+\n",
      "|                         Title|   Topic|                   probability|label|prediction|\n",
      "+------------------------------+--------+------------------------------+-----+----------+\n",
      "|\"Brighton and Hove Albion F...|\"sports\"|[0.9961809602864691,7.31110...|  0.0|       0.0|\n",
      "|\"Brighton and Hove Albion F...|\"sports\"|[0.9961809602864691,7.31110...|  0.0|       0.0|\n",
      "|\"Brighton & Hove Albion 1-0...|\"sports\"|[0.996067917718141,0.001187...|  0.0|       0.0|\n",
      "|\"Brighton & Hove Albion 1-0...|\"sports\"|[0.996067917718141,0.001187...|  0.0|       0.0|\n",
      "|\"Manchester City 0 Huddersf...|\"sports\"|[0.9861069366627296,0.00248...|  0.0|       0.0|\n",
      "|\"Manchester City 3 Brighton...|\"sports\"|[0.9700885037373322,0.00532...|  0.0|       0.0|\n",
      "|\"West Ham 0 Manchester Unit...|\"sports\"|[0.9638525210049624,0.01431...|  0.0|       0.0|\n",
      "|\"Juventus 4 AC Milan 0: Don...|\"sports\"|[0.960848109454052,0.011764...|  0.0|       0.0|\n",
      "|\"Women's FA Cup final archi...|\"sports\"|[0.935139002224703,0.013661...|  0.0|       0.0|\n",
      "|\"Women's FA Cup final archi...|\"sports\"|[0.935139002224703,0.013661...|  0.0|       0.0|\n",
      "+------------------------------+--------+------------------------------+-----+----------+\n",
      "only showing top 10 rows\n",
      "\n"
     ]
    },
    {
     "data": {
      "text/plain": [
       "0.8260784656783743"
      ]
     },
     "execution_count": 12,
     "metadata": {},
     "output_type": "execute_result"
    }
   ],
   "source": [
    "#Logistic Regression\n",
    "lr = LogisticRegression(maxIter=20, regParam=0.3, elasticNetParam=0)\n",
    "lrModel = lr.fit(trainingData)\n",
    "predictions = lrModel.transform(testData)\n",
    "predictions.filter(predictions['prediction'] == 0) \\\n",
    "    .select(\"Title\",\"Topic\",\"probability\",\"label\",\"prediction\") \\\n",
    "    .orderBy(\"probability\", ascending=False) \\\n",
    "    .show(n = 10, truncate = 30)\n",
    "from pyspark.ml.evaluation import MulticlassClassificationEvaluator\n",
    "evaluator = MulticlassClassificationEvaluator(predictionCol=\"prediction\")\n",
    "evaluator.evaluate(predictions)"
   ]
  },
  {
   "cell_type": "code",
   "execution_count": null,
   "metadata": {},
   "outputs": [],
   "source": []
  }
 ],
 "metadata": {
  "kernelspec": {
   "display_name": "Python 3",
   "language": "python",
   "name": "python3"
  },
  "language_info": {
   "codemirror_mode": {
    "name": "ipython",
    "version": 3
   },
   "file_extension": ".py",
   "mimetype": "text/x-python",
   "name": "python",
   "nbconvert_exporter": "python",
   "pygments_lexer": "ipython3",
   "version": "3.6.4"
  }
 },
 "nbformat": 4,
 "nbformat_minor": 2
}
