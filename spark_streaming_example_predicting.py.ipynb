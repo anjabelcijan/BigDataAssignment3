{
 "cells": [
  {
   "cell_type": "code",
   "execution_count": 1,
   "metadata": {},
   "outputs": [],
   "source": [
    "from threading import Thread\n",
    "\n",
    "class StreamingThread(Thread):\n",
    "    def __init__(self, ssc):\n",
    "        Thread.__init__(self)\n",
    "        self.ssc = ssc\n",
    "    def run(self):\n",
    "        ssc.start()\n",
    "        ssc.awaitTermination()\n",
    "    def stop(self):\n",
    "        print('----- Stopping... this may take a few seconds -----')\n",
    "        self.ssc.stop(stopSparkContext=False, stopGraceFully=True)"
   ]
  },
  {
   "cell_type": "code",
   "execution_count": 2,
   "metadata": {},
   "outputs": [
    {
     "data": {
      "text/html": [
       "\n",
       "        <div>\n",
       "            <p><b>SparkContext</b></p>\n",
       "\n",
       "            <p><a href=\"http://DESKTOP-9E1CS3H:4042\">Spark UI</a></p>\n",
       "\n",
       "            <dl>\n",
       "              <dt>Version</dt>\n",
       "                <dd><code>v2.3.0</code></dd>\n",
       "              <dt>Master</dt>\n",
       "                <dd><code>local[*]</code></dd>\n",
       "              <dt>AppName</dt>\n",
       "                <dd><code>PySparkShell</code></dd>\n",
       "            </dl>\n",
       "        </div>\n",
       "        "
      ],
      "text/plain": [
       "<SparkContext master=local[*] appName=PySparkShell>"
      ]
     },
     "execution_count": 2,
     "metadata": {},
     "output_type": "execute_result"
    }
   ],
   "source": [
    "sc"
   ]
  },
  {
   "cell_type": "code",
   "execution_count": 3,
   "metadata": {},
   "outputs": [],
   "source": [
    "from pyspark.streaming import StreamingContext\n",
    "from pyspark.sql import Row, SparkSession"
   ]
  },
  {
   "cell_type": "code",
   "execution_count": 4,
   "metadata": {},
   "outputs": [],
   "source": [
    "def getSparkSessionInstance(sparkConf):\n",
    "    if (\"sparkSessionSingletonInstance\" not in globals()):\n",
    "        globals()[\"sparkSessionSingletonInstance\"] = SparkSession \\\n",
    "            .builder \\\n",
    "            .config(conf=sparkConf) \\\n",
    "            .getOrCreate()\n",
    "    return globals()[\"sparkSessionSingletonInstance\"]\n"
   ]
  },
  {
   "cell_type": "code",
   "execution_count": 5,
   "metadata": {},
   "outputs": [],
   "source": [
    "def predict(title):\n",
    "    # Replace this with something smarter\n",
    "    return 'askreddit'\n",
    "\n",
    "def process(time, rdd):\n",
    "    if rdd.isEmpty():\n",
    "        return\n",
    "    print(\"========= %s =========\" % str(time))\n",
    "    spark = getSparkSessionInstance(rdd.context.getConf())\n",
    "    rowRdd = rdd.map(lambda line: Row(subreddit=line.split('\\t')[0],\n",
    "        title=line.split('\\t')[1],\n",
    "        prediction=predict(line.split('\\t')[1])))\n",
    "    df = spark.createDataFrame(rowRdd)\n",
    "    df.show()"
   ]
  },
  {
   "cell_type": "code",
   "execution_count": 6,
   "metadata": {},
   "outputs": [],
   "source": [
    "ssc = StreamingContext(sc, 10)"
   ]
  },
  {
   "cell_type": "code",
   "execution_count": 7,
   "metadata": {
    "scrolled": true
   },
   "outputs": [],
   "source": [
    "lines = ssc.socketTextStream(\"seppe.net\", 7777)\n",
    "lines.foreachRDD(process)"
   ]
  },
  {
   "cell_type": "code",
   "execution_count": 8,
   "metadata": {
    "scrolled": true
   },
   "outputs": [
    {
     "name": "stdout",
     "output_type": "stream",
     "text": [
      "========= 2018-04-17 11:35:40 =========\n",
      "+----------+---------+--------------------+\n",
      "|prediction|subreddit|               title|\n",
      "+----------+---------+--------------------+\n",
      "| askreddit|askreddit|As international ...|\n",
      "| askreddit|askreddit|What have you giv...|\n",
      "| askreddit|askreddit|What's a funny en...|\n",
      "| askreddit|askreddit|What's the weirde...|\n",
      "| askreddit|askreddit|For people who re...|\n",
      "| askreddit|askreddit|What is your next...|\n",
      "| askreddit|askreddit|Reddit, of what f...|\n",
      "| askreddit|askreddit|Why does a surpri...|\n",
      "| askreddit|askreddit|Retail workers of...|\n",
      "| askreddit|askreddit|What is the weird...|\n",
      "| askreddit|askreddit|Where are you fro...|\n",
      "| askreddit|askreddit|Who is the cowork...|\n",
      "| askreddit|askreddit|Why does Bank of ...|\n",
      "| askreddit|askreddit|How is your month...|\n",
      "| askreddit|askreddit|[serious] How wil...|\n",
      "| askreddit|askreddit|Japanese people, ...|\n",
      "| askreddit|askreddit|How has starting ...|\n",
      "| askreddit|askreddit|What was your fun...|\n",
      "| askreddit|askreddit|Redditors, what t...|\n",
      "| askreddit|askreddit|What are some fre...|\n",
      "+----------+---------+--------------------+\n",
      "only showing top 20 rows\n",
      "\n",
      "========= 2018-04-17 11:35:50 =========\n",
      "+----------+---------+--------------------+\n",
      "|prediction|subreddit|               title|\n",
      "+----------+---------+--------------------+\n",
      "| askreddit|askreddit|How do you stop y...|\n",
      "+----------+---------+--------------------+\n",
      "\n",
      "========= 2018-04-17 11:36:10 =========\n",
      "+----------+----------+--------------------+\n",
      "|prediction| subreddit|               title|\n",
      "+----------+----------+--------------------+\n",
      "| askreddit|the_donald|This is the Liber...|\n",
      "+----------+----------+--------------------+\n",
      "\n",
      "========= 2018-04-17 11:36:20 =========\n"
     ]
    }
   ],
   "source": [
    "ssc_t = StreamingThread(ssc)\n",
    "ssc_t.start()"
   ]
  },
  {
   "cell_type": "code",
   "execution_count": 9,
   "metadata": {},
   "outputs": [
    {
     "name": "stdout",
     "output_type": "stream",
     "text": [
      "----- Stopping... this may take a few seconds -----\n",
      "+----------+---------+--------------------+\n",
      "|prediction|subreddit|               title|\n",
      "+----------+---------+--------------------+\n",
      "| askreddit|   gaming|Where boys became...|\n",
      "+----------+---------+--------------------+\n",
      "\n",
      "========= 2018-04-17 11:36:30 =========\n",
      "+----------+---------+--------------------+\n",
      "|prediction|subreddit|               title|\n",
      "+----------+---------+--------------------+\n",
      "| askreddit|    funny|Oh, no! The Cromb...|\n",
      "+----------+---------+--------------------+\n",
      "\n"
     ]
    }
   ],
   "source": [
    "ssc_t.stop()"
   ]
  },
  {
   "cell_type": "code",
   "execution_count": null,
   "metadata": {},
   "outputs": [],
   "source": []
  }
 ],
 "metadata": {
  "kernelspec": {
   "display_name": "Python 3",
   "language": "python",
   "name": "python3"
  },
  "language_info": {
   "codemirror_mode": {
    "name": "ipython",
    "version": 3
   },
   "file_extension": ".py",
   "mimetype": "text/x-python",
   "name": "python",
   "nbconvert_exporter": "python",
   "pygments_lexer": "ipython3",
   "version": "3.6.4"
  }
 },
 "nbformat": 4,
 "nbformat_minor": 2
}
