{
 "cells": [
  {
   "cell_type": "code",
   "execution_count": 1,
   "metadata": {},
   "outputs": [],
   "source": [
    "import os"
   ]
  },
  {
   "cell_type": "code",
   "execution_count": 2,
   "metadata": {},
   "outputs": [
    {
     "data": {
      "text/html": [
       "\n",
       "        <div>\n",
       "            <p><b>SparkContext</b></p>\n",
       "\n",
       "            <p><a href=\"http://CRD-U-F8C3YN1:4040\">Spark UI</a></p>\n",
       "\n",
       "            <dl>\n",
       "              <dt>Version</dt>\n",
       "                <dd><code>v2.3.0</code></dd>\n",
       "              <dt>Master</dt>\n",
       "                <dd><code>local[*]</code></dd>\n",
       "              <dt>AppName</dt>\n",
       "                <dd><code>PySparkShell</code></dd>\n",
       "            </dl>\n",
       "        </div>\n",
       "        "
      ],
      "text/plain": [
       "<SparkContext master=local[*] appName=PySparkShell>"
      ]
     },
     "execution_count": 2,
     "metadata": {},
     "output_type": "execute_result"
    }
   ],
   "source": [
    "sc"
   ]
  },
  {
   "cell_type": "code",
   "execution_count": 3,
   "metadata": {},
   "outputs": [
    {
     "name": "stdout",
     "output_type": "stream",
     "text": [
      "+--------------------+--------------------+---------------+---+\n",
      "|               Title|         Description|          Topic| nT|\n",
      "+--------------------+--------------------+---------------+---+\n",
      "|\"Meek Mill Wishes...|\"'I wasn't feelin...|\"entertainment\"|\"1\"|\n",
      "|\"A Victim Of Reve...| \"Don't leak nudes.\"|\"entertainment\"|\"1\"|\n",
      "|\"Make A Pitcher O...|   \"It's wine time.\"|\"entertainment\"|\"1\"|\n",
      "|\"Create A Summer ...|\"Which tune will ...|\"entertainment\"|\"1\"|\n",
      "|\"Everyone Is A Co...|\"Are you a combo ...|\"entertainment\"|\"1\"|\n",
      "+--------------------+--------------------+---------------+---+\n",
      "only showing top 5 rows\n",
      "\n",
      "+--------------------+--------------------+---------------+\n",
      "|               Title|         Description|          Topic|\n",
      "+--------------------+--------------------+---------------+\n",
      "|\"Meek Mill Wishes...|\"'I wasn't feelin...|\"entertainment\"|\n",
      "|\"A Victim Of Reve...| \"Don't leak nudes.\"|\"entertainment\"|\n",
      "|\"Make A Pitcher O...|   \"It's wine time.\"|\"entertainment\"|\n",
      "|\"Create A Summer ...|\"Which tune will ...|\"entertainment\"|\n",
      "|\"Everyone Is A Co...|\"Are you a combo ...|\"entertainment\"|\n",
      "+--------------------+--------------------+---------------+\n",
      "only showing top 5 rows\n",
      "\n",
      "root\n",
      " |-- Title: string (nullable = true)\n",
      " |-- Description: string (nullable = true)\n",
      " |-- Topic: string (nullable = true)\n",
      "\n"
     ]
    }
   ],
   "source": [
    "###Create Dataframe###\n",
    "from pyspark.sql import SQLContext, Row\n",
    "#load the historical file and convert lines to rows\n",
    "lines = sc.textFile(\"file:///Users/Administrator/Desktop/spark/out3.txt\")\n",
    "words = lines.map(lambda l: l.split(\"\\t\"))\n",
    "header = words.first()\n",
    "words = words.filter(lambda x:x != header)\n",
    "data= sqlContext.createDataFrame(words, [\"Title\", \"Description\", \"Topic\",\"nT\"])\n",
    "data.show(5)\n",
    "#omit column \"nT\" from dataframe\n",
    "data = data.select([\"Title\",\"Description\",\"Topic\"])\n",
    "data.show(5)\n",
    "data.printSchema()"
   ]
  },
  {
   "cell_type": "code",
   "execution_count": 4,
   "metadata": {},
   "outputs": [
    {
     "name": "stdout",
     "output_type": "stream",
     "text": [
      "+---------------+-----+\n",
      "|          Topic|count|\n",
      "+---------------+-----+\n",
      "|       \"sports\"|  885|\n",
      "|   \"technology\"|  743|\n",
      "|     \"business\"|  679|\n",
      "|      \"science\"|  674|\n",
      "|\"entertainment\"|  647|\n",
      "|       \"health\"|  380|\n",
      "+---------------+-----+\n",
      "\n"
     ]
    }
   ],
   "source": [
    "#look at count for topics\n",
    "from pyspark.sql.functions import col\n",
    "data.groupBy(\"Topic\") \\\n",
    "    .count() \\\n",
    "    .orderBy(col(\"count\").desc()) \\\n",
    "    .show()"
   ]
  },
  {
   "cell_type": "code",
   "execution_count": 12,
   "metadata": {},
   "outputs": [],
   "source": [
    "###Model Pipeline###\n",
    "from pyspark.ml.feature import RegexTokenizer, StopWordsRemover, CountVectorizer\n",
    "from pyspark.ml.classification import LogisticRegression\n",
    "# regular expression tokenizer\n",
    "regexTokenizer1 = RegexTokenizer(inputCol=\"Title\", outputCol=\"words1\", pattern=\"\\\\W\")\n",
    "regexTokenizer2 = RegexTokenizer(inputCol=\"Description\", outputCol=\"words2\", pattern=\"\\\\W\")"
   ]
  },
  {
   "cell_type": "code",
   "execution_count": 13,
   "metadata": {},
   "outputs": [],
   "source": [
    "# stop words\n",
    "add_stopwords =StopWordsRemover.loadDefaultStopWords(\"english\")\n",
    "stopwordsRemover1 = StopWordsRemover(inputCol=\"words1\", outputCol=\"filtered1\").setStopWords(add_stopwords)\n",
    "stopwordsRemover2 = StopWordsRemover(inputCol=\"words2\", outputCol=\"filtered2\").setStopWords(add_stopwords)"
   ]
  },
  {
   "cell_type": "code",
   "execution_count": 14,
   "metadata": {},
   "outputs": [],
   "source": [
    "# bag of words count\n",
    "countVectors1 = CountVectorizer(inputCol=\"filtered1\", outputCol=\"features1\", vocabSize=10000, minDF=5)\n",
    "countVectors2 = CountVectorizer(inputCol=\"filtered2\", outputCol=\"features2\", vocabSize=10000, minDF=5)"
   ]
  },
  {
   "cell_type": "code",
   "execution_count": 17,
   "metadata": {},
   "outputs": [],
   "source": [
    "#String Indexer \n",
    "from pyspark.ml import Pipeline\n",
    "from pyspark.ml.feature import OneHotEncoder, StringIndexer, VectorAssembler\n",
    "label_stringIdx = StringIndexer(inputCol = \"Topic\", outputCol = \"label\")\n",
    "pipeline = Pipeline(stages=[regexTokenizer1,regexTokenizer2,stopwordsRemover1,stopwordsRemover2,countVectors1,countVectors2,label_stringIdx])"
   ]
  },
  {
   "cell_type": "code",
   "execution_count": 18,
   "metadata": {},
   "outputs": [
    {
     "name": "stdout",
     "output_type": "stream",
     "text": [
      "+--------------------+--------------------+---------------+--------------------+--------------------+--------------------+--------------------+--------------------+--------------------+-----+\n",
      "|               Title|         Description|          Topic|              words1|              words2|           filtered1|           filtered2|           features1|           features2|label|\n",
      "+--------------------+--------------------+---------------+--------------------+--------------------+--------------------+--------------------+--------------------+--------------------+-----+\n",
      "|\"Meek Mill Wishes...|\"'I wasn't feelin...|\"entertainment\"|[meek, mill, wish...|[i, wasn, t, feel...|[meek, mill, wish...|     [wasn, feeling]|  (1678,[870],[1.0])|(3064,[952,2758],...|  4.0|\n",
      "|\"A Victim Of Reve...| \"Don't leak nudes.\"|\"entertainment\"|[a, victim, of, r...|[don, t, leak, nu...|[victim, revenge,...|       [leak, nudes]|(1678,[169,1109,1...|        (3064,[],[])|  4.0|\n",
      "|\"Make A Pitcher O...|   \"It's wine time.\"|\"entertainment\"|[make, a, pitcher...| [it, s, wine, time]|[make, pitcher, s...|        [wine, time]|(1678,[30,32,83,1...|   (3064,[10],[1.0])|  4.0|\n",
      "|\"Create A Summer ...|\"Which tune will ...|\"entertainment\"|[create, a, summe...|[which, tune, wil...|[create, summer, ...|[tune, dominate, ...|(1678,[83,122,502...|        (3064,[],[])|  4.0|\n",
      "|\"Everyone Is A Co...|\"Are you a combo ...|\"entertainment\"|[everyone, is, a,...|[are, you, a, com...|[everyone, combin...|   [combo, bey, rih]|(1678,[0,17,174,2...|        (3064,[],[])|  4.0|\n",
      "+--------------------+--------------------+---------------+--------------------+--------------------+--------------------+--------------------+--------------------+--------------------+-----+\n",
      "only showing top 5 rows\n",
      "\n"
     ]
    }
   ],
   "source": [
    "# Fit the pipeline to training documents.\n",
    "pipelineFit = pipeline.fit(data)\n",
    "dataset = pipelineFit.transform(data)\n",
    "dataset.show(5)"
   ]
  },
  {
   "cell_type": "code",
   "execution_count": 20,
   "metadata": {},
   "outputs": [
    {
     "name": "stdout",
     "output_type": "stream",
     "text": [
      "+--------------------+--------------------+-----+\n",
      "|           features1|           features2|label|\n",
      "+--------------------+--------------------+-----+\n",
      "|  (1678,[870],[1.0])|(3064,[952,2758],...|  4.0|\n",
      "|(1678,[169,1109,1...|        (3064,[],[])|  4.0|\n",
      "|(1678,[30,32,83,1...|   (3064,[10],[1.0])|  4.0|\n",
      "|(1678,[83,122,502...|        (3064,[],[])|  4.0|\n",
      "|(1678,[0,17,174,2...|        (3064,[],[])|  4.0|\n",
      "+--------------------+--------------------+-----+\n",
      "only showing top 5 rows\n",
      "\n"
     ]
    }
   ],
   "source": [
    "#remove string variables\n",
    "dataset=dataset.select([\"features1\",\"features2\",\"label\"])\n",
    "dataset.show(5)"
   ]
  },
  {
   "cell_type": "code",
   "execution_count": 21,
   "metadata": {},
   "outputs": [
    {
     "name": "stdout",
     "output_type": "stream",
     "text": [
      "+--------------------+--------------------+-----+--------------------+\n",
      "|           features1|           features2|label|            features|\n",
      "+--------------------+--------------------+-----+--------------------+\n",
      "|  (1678,[870],[1.0])|(3064,[952,2758],...|  4.0|(4742,[870,2630,4...|\n",
      "|(1678,[169,1109,1...|        (3064,[],[])|  4.0|(4742,[169,1109,1...|\n",
      "|(1678,[30,32,83,1...|   (3064,[10],[1.0])|  4.0|(4742,[30,32,83,1...|\n",
      "|(1678,[83,122,502...|        (3064,[],[])|  4.0|(4742,[83,122,502...|\n",
      "|(1678,[0,17,174,2...|        (3064,[],[])|  4.0|(4742,[0,17,174,2...|\n",
      "+--------------------+--------------------+-----+--------------------+\n",
      "only showing top 5 rows\n",
      "\n",
      "+--------------------+-----+\n",
      "|            features|label|\n",
      "+--------------------+-----+\n",
      "|(4742,[870,2630,4...|  4.0|\n",
      "|(4742,[169,1109,1...|  4.0|\n",
      "|(4742,[30,32,83,1...|  4.0|\n",
      "|(4742,[83,122,502...|  4.0|\n",
      "|(4742,[0,17,174,2...|  4.0|\n",
      "+--------------------+-----+\n",
      "only showing top 5 rows\n",
      "\n"
     ]
    }
   ],
   "source": [
    "##create vector out of new features##\n",
    "assembler = VectorAssembler(\n",
    "    inputCols=[\"features1\", \"features2\"],\n",
    "    outputCol=\"features\")\n",
    "output = assembler.transform(dataset2)\n",
    "output.show(5)\n",
    "dataset=output.select(['features','label'])\n",
    "dataset.show(5)"
   ]
  },
  {
   "cell_type": "code",
   "execution_count": 22,
   "metadata": {},
   "outputs": [
    {
     "name": "stdout",
     "output_type": "stream",
     "text": [
      "Training Dataset Count: 2807\n",
      "Test Dataset Count: 1201\n"
     ]
    }
   ],
   "source": [
    "###Split Data to Training and Test###\n",
    "(trainingData, testData) = dataset.randomSplit([0.7, 0.3], seed = 100)\n",
    "print(\"Training Dataset Count: \" + str(trainingData.count()))\n",
    "print(\"Test Dataset Count: \" + str(testData.count()))"
   ]
  },
  {
   "cell_type": "code",
   "execution_count": 26,
   "metadata": {},
   "outputs": [
    {
     "name": "stdout",
     "output_type": "stream",
     "text": [
      "+------------------------------+-----+------------------------------+-----+----------+\n",
      "|                      features|label|                   probability|label|prediction|\n",
      "+------------------------------+-----+------------------------------+-----+----------+\n",
      "|(4742,[9,15,155,260,1387,14...|  0.0|[1.0,5.048048400258517E-17,...|  0.0|       0.0|\n",
      "|(4742,[29,71,85,118,137,207...|  0.0|[1.0,3.278664053519545E-17,...|  0.0|       0.0|\n",
      "|(4742,[9,18,49,100,157,1686...|  0.0|[1.0,3.8356342639503773E-19...|  0.0|       0.0|\n",
      "|(4742,[8,9,15,155,260,734,1...|  0.0|[1.0,1.8045165068184668E-19...|  0.0|       0.0|\n",
      "|(4742,[8,9,15,155,260,734,1...|  0.0|[1.0,1.8045165068184668E-19...|  0.0|       0.0|\n",
      "|(4742,[60,65,76,196,292,168...|  0.0|[1.0,6.110681048693149E-20,...|  0.0|       0.0|\n",
      "|(4742,[148,390,608,1605,167...|  0.0|[1.0,5.21087835933215E-20,6...|  0.0|       0.0|\n",
      "|(4742,[13,52,62,68,79,89,27...|  0.0|[1.0,4.7932548105260656E-20...|  0.0|       0.0|\n",
      "|(4742,[12,29,68,120,251,463...|  0.0|[1.0,1.634864849115358E-20,...|  0.0|       0.0|\n",
      "|(4742,[26,530,797,864,1702,...|  0.0|[1.0,1.3642149024029932E-20...|  0.0|       0.0|\n",
      "+------------------------------+-----+------------------------------+-----+----------+\n",
      "only showing top 10 rows\n",
      "\n"
     ]
    },
    {
     "data": {
      "text/plain": [
       "0.872029934085848"
      ]
     },
     "execution_count": 26,
     "metadata": {},
     "output_type": "execute_result"
    }
   ],
   "source": [
    "###Predictive Modeling###\n",
    "#Naive Bayes\n",
    "from pyspark.ml.classification import NaiveBayes\n",
    "nb = NaiveBayes(smoothing=1)\n",
    "model = nb.fit(trainingData)\n",
    "predictions = model.transform(testData)\n",
    "predictions.filter(predictions['prediction'] == 0) \\\n",
    "    .select(\"features\",\"label\",\"probability\",\"label\",\"prediction\") \\\n",
    "    .orderBy(\"probability\", ascending=False) \\\n",
    "    .show(n = 10, truncate = 30) \n",
    "#Accuracy\n",
    "from pyspark.ml.evaluation import MulticlassClassificationEvaluator\n",
    "evaluator = MulticlassClassificationEvaluator(predictionCol=\"prediction\")\n",
    "evaluator.evaluate(predictions)"
   ]
  },
  {
   "cell_type": "code",
   "execution_count": 27,
   "metadata": {},
   "outputs": [
    {
     "name": "stdout",
     "output_type": "stream",
     "text": [
      "+------------------------------+-----+------------------------------+-----+----------+\n",
      "|                      features|label|                   probability|label|prediction|\n",
      "+------------------------------+-----+------------------------------+-----+----------+\n",
      "|(4742,[13,29,60,62,63,85,20...|  0.0|[0.9986138714869124,4.49256...|  0.0|       0.0|\n",
      "|(4742,[13,29,60,62,63,85,20...|  0.0|[0.9986138714869124,4.49256...|  0.0|       0.0|\n",
      "|(4742,[23,48,86,147,313,323...|  0.0|[0.99828719852413,7.1850651...|  0.0|       0.0|\n",
      "|(4742,[23,48,86,147,313,323...|  0.0|[0.99828719852413,7.1850651...|  0.0|       0.0|\n",
      "|(4742,[29,71,85,118,137,207...|  0.0|[0.9933366316341055,0.00225...|  0.0|       0.0|\n",
      "|(4742,[9,29,35,65,81,85,226...|  0.0|[0.9929585291224485,0.00206...|  0.0|       0.0|\n",
      "|(4742,[9,11,220,482,666,157...|  0.0|[0.9903787711966406,0.00225...|  0.0|       0.0|\n",
      "|(4742,[9,11,220,482,666,157...|  0.0|[0.9903787711966406,0.00225...|  0.0|       0.0|\n",
      "|(4742,[71,535,563,862,1004,...|  0.0|[0.9903399835521072,0.00330...|  0.0|       0.0|\n",
      "|(4742,[0,29,55,68,85,87,107...|  0.0|[0.9901049556870998,0.00219...|  0.0|       0.0|\n",
      "+------------------------------+-----+------------------------------+-----+----------+\n",
      "only showing top 10 rows\n",
      "\n"
     ]
    },
    {
     "data": {
      "text/plain": [
       "0.8999653112236674"
      ]
     },
     "execution_count": 27,
     "metadata": {},
     "output_type": "execute_result"
    }
   ],
   "source": [
    "#Logistic Regression\n",
    "lr = LogisticRegression(maxIter=20, regParam=0.3, elasticNetParam=0)\n",
    "lrModel = lr.fit(trainingData)\n",
    "predictions = lrModel.transform(testData)\n",
    "predictions.filter(predictions['prediction'] == 0) \\\n",
    "    .select(\"features\",\"label\",\"probability\",\"label\",\"prediction\") \\\n",
    "    .orderBy(\"probability\", ascending=False) \\\n",
    "    .show(n = 10, truncate = 30)\n",
    "evaluator = MulticlassClassificationEvaluator(predictionCol=\"prediction\")\n",
    "evaluator.evaluate(predictions)"
   ]
  },
  {
   "cell_type": "code",
   "execution_count": null,
   "metadata": {},
   "outputs": [],
   "source": []
  }
 ],
 "metadata": {
  "kernelspec": {
   "display_name": "Python 3",
   "language": "python",
   "name": "python3"
  },
  "language_info": {
   "codemirror_mode": {
    "name": "ipython",
    "version": 3
   },
   "file_extension": ".py",
   "mimetype": "text/x-python",
   "name": "python",
   "nbconvert_exporter": "python",
   "pygments_lexer": "ipython3",
   "version": "3.6.4"
  }
 },
 "nbformat": 4,
 "nbformat_minor": 2
}
